{
 "cells": [
  {
   "cell_type": "markdown",
   "id": "ec3d98e5-cb5f-41b4-8a4d-a2f113ae4150",
   "metadata": {},
   "source": [
    "# A simple sheet"
   ]
  },
  {
   "cell_type": "code",
   "execution_count": 45,
   "id": "d073bb5e-3e1a-4adf-bae2-91908908877b",
   "metadata": {},
   "outputs": [],
   "source": [
    "import IPython"
   ]
  },
  {
   "cell_type": "code",
   "execution_count": 46,
   "id": "57e419a0-87d0-43a0-ae29-7dc14e89152d",
   "metadata": {},
   "outputs": [],
   "source": [
    "def html_table(xx,yy):\n",
    "    return '<table><tbody>'+str().join('<tr>'+str().join('<td>'+str(x)+'</td>' for x in range(xx))+'<tr>' for y in range(yy))+'</tbody></table>'"
   ]
  },
  {
   "cell_type": "code",
   "execution_count": 47,
   "id": "7e0a143c-d2b2-41c0-a479-5fe3194e8c22",
   "metadata": {},
   "outputs": [
    {
     "data": {
      "text/html": [
       "<table><tbody><tr><td>0</td><td>1</td><td>2</td><td>3</td><td>4</td><tr><tr><td>0</td><td>1</td><td>2</td><td>3</td><td>4</td><tr><tr><td>0</td><td>1</td><td>2</td><td>3</td><td>4</td><tr><tr><td>0</td><td>1</td><td>2</td><td>3</td><td>4</td><tr><tr><td>0</td><td>1</td><td>2</td><td>3</td><td>4</td><tr></tbody></table>"
      ],
      "text/plain": [
       "<IPython.core.display.HTML object>"
      ]
     },
     "metadata": {},
     "output_type": "display_data"
    }
   ],
   "source": [
    "IPython.display.display(IPython.display.HTML(html_table(5,5)))"
   ]
  }
 ],
 "metadata": {
  "kernelspec": {
   "display_name": "Python 3 (ipykernel)",
   "language": "python",
   "name": "python3"
  },
  "language_info": {
   "codemirror_mode": {
    "name": "ipython",
    "version": 3
   },
   "file_extension": ".py",
   "mimetype": "text/x-python",
   "name": "python",
   "nbconvert_exporter": "python",
   "pygments_lexer": "ipython3",
   "version": "3.12.3"
  }
 },
 "nbformat": 4,
 "nbformat_minor": 5
}
