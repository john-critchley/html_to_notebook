{
 "cells": [
  {
   "cell_type": "markdown",
   "id": "8887a4ad",
   "metadata": {},
   "source": [
    "# A simple sheet"
   ]
  },
  {
   "cell_type": "code",
   "execution_count": 45,
   "id": "352f755e",
   "metadata": {},
   "outputs": [],
   "source": [
    "import IPython\n"
   ]
  },
  {
   "cell_type": "code",
   "execution_count": 46,
   "id": "a7e8a43f",
   "metadata": {},
   "outputs": [],
   "source": [
    "def html_table(xx,yy):\n",
    "    return '<table><tbody>'+str().join('<tr>'+str().join('<td>'+str(x)+'</td>' for x in range(xx))+'<tr>' for y in range(yy))+'</tbody></table>'\n"
   ]
  },
  {
   "cell_type": "code",
   "execution_count": 47,
   "id": "5368e3d3",
   "metadata": {},
   "outputs": [],
   "source": [
    "IPython.display.display(IPython.display.HTML(html_table(5,5)))\n"
   ]
  }
 ],
 "metadata": {
  "kernelspec": {
   "display_name": "Python 3",
   "language": "python",
   "name": "python3"
  },
  "language_info": {
   "codemirror_mode": {
    "name": "ipython",
    "version": 3
   },
   "file_extension": ".py",
   "mimetype": "text/x-python",
   "name": "python",
   "nbconvert_exporter": "python",
   "pygments_lexer": "ipython3",
   "version": "3.8.0"
  }
 },
 "nbformat": 4,
 "nbformat_minor": 5
}
